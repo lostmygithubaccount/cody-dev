{
 "cells": [
  {
   "cell_type": "code",
   "execution_count": 5,
   "metadata": {},
   "outputs": [],
   "source": [
    "subscription_id = \"6560575d-fa06-4e7d-95fb-f962e74efd7a\"\n",
    "resource_group = \"cody-dev\"\n",
    "workspace_name = \"main-dev\""
   ]
  },
  {
   "cell_type": "code",
   "execution_count": 4,
   "metadata": {},
   "outputs": [],
   "source": [
    "from azure.ml import MLClient as mlc\n",
    "from azure.identity import DefaultAzureCredential"
   ]
  },
  {
   "cell_type": "code",
   "execution_count": 6,
   "metadata": {},
   "outputs": [
    {
     "data": {
      "text/plain": [
       "MLClient(credential=<azure.identity._credentials.default.DefaultAzureCredential object at 0x125311490>,\n",
       "         subscription_id=6560575d-fa06-4e7d-95fb-f962e74efd7a,\n",
       "         resource_group_name=cody-dev,\n",
       "         workspace_name=main-dev)"
      ]
     },
     "execution_count": 6,
     "metadata": {},
     "output_type": "execute_result"
    }
   ],
   "source": [
    "wsc = mlc(DefaultAzureCredential(), subscription_id, resource_group, workspace_name)\n",
    "wsc"
   ]
  },
  {
   "cell_type": "code",
   "execution_count": 9,
   "metadata": {},
   "outputs": [
    {
     "data": {
      "text/plain": [
       "AzureBlobDatastore({'type': <DatastoreType.AZURE_BLOB: 'AzureBlob'>, 'name': 'workspaceblobstore', 'description': None, 'tags': {}, 'properties': {}, 'id': '/subscriptions/6560575d-fa06-4e7d-95fb-f962e74efd7a/resourceGroups/cody-dev/providers/Microsoft.MachineLearningServices/workspaces/main-dev/datastores/workspaceblobstore', 'base_path': './', 'creation_context': None, 'serialize': <msrest.serialization.Serializer object at 0x12722e310>, 'credentials': <azure.ml.entities._datastore.credentials.AccountKeyCredentials object at 0x12722e490>, 'container_name': 'azureml-blobstore-5c9855f4-1971-4eb7-9e68-3dc487ff80c0', 'account_name': 'maindevstoragefe42dbb299', 'endpoint': 'core.windows.net', 'protocol': 'https'})"
      ]
     },
     "execution_count": 9,
     "metadata": {},
     "output_type": "execute_result"
    }
   ],
   "source": [
    "wsc.datastores.get_default()"
   ]
  },
  {
   "cell_type": "code",
   "execution_count": 11,
   "metadata": {},
   "outputs": [
    {
     "name": "stdout",
     "output_type": "stream",
     "text": [
      "Help on DatastoreOperations in module azure.ml._operations.datastore_operations object:\n",
      "\n",
      "class DatastoreOperations(azure.ml._scope_dependent_operations._ScopeDependentOperations)\n",
      " |  DatastoreOperations(operation_scope: azure.ml._scope_dependent_operations.OperationScope, service_client: azure.ml._restclient.v2022_02_01_preview._azure_machine_learning_workspaces.AzureMachineLearningWorkspaces, **kwargs: Dict)\n",
      " |  \n",
      " |  Represents a client for performing operations on Datastores\n",
      " |  \n",
      " |  You should not instantiate this class directly. Instead, you should create MLClient and\n",
      " |  use this client via the property MLClient.datastores\n",
      " |  \n",
      " |  Method resolution order:\n",
      " |      DatastoreOperations\n",
      " |      azure.ml._scope_dependent_operations._ScopeDependentOperations\n",
      " |      builtins.object\n",
      " |  \n",
      " |  Methods defined here:\n",
      " |  \n",
      " |  __init__(self, operation_scope: azure.ml._scope_dependent_operations.OperationScope, service_client: azure.ml._restclient.v2022_02_01_preview._azure_machine_learning_workspaces.AzureMachineLearningWorkspaces, **kwargs: Dict)\n",
      " |      Initialize self.  See help(type(self)) for accurate signature.\n",
      " |  \n",
      " |  create_or_update(self, datastore: azure.ml.entities._datastore.datastore.Datastore) -> azure.ml.entities._datastore.datastore.Datastore\n",
      " |      Attaches the passed in datastore to the workspace or updates the datastore if it already exists\n",
      " |      \n",
      " |      :param datastore: The configuration of the datastore to attach.\n",
      " |      :type datastore: Datastore\n",
      " |      :return: The attached datastore.\n",
      " |      :rtype: Datastore\n",
      " |  \n",
      " |  delete(self, name: str) -> None\n",
      " |      Deletes a datastore reference with the given name from the workspace. This method\n",
      " |      does not delete the actual datastore or underlying data in the datastore.\n",
      " |      \n",
      " |      :param name: Name of the datastore\n",
      " |      :type name: str\n",
      " |  \n",
      " |  get(self, name: str, *, include_secrets: bool = False) -> azure.ml.entities._datastore.datastore.Datastore\n",
      " |      Returns information about the datastore referenced by the given name\n",
      " |      \n",
      " |      :param name: Datastore name\n",
      " |      :type name: str\n",
      " |      :param include_secrets: Include datastore secrets in the returned datastore, defaults to False\n",
      " |      :type include_secrets: bool, optional\n",
      " |      :return: Datastore with the specified name.\n",
      " |      :rtype: Datastore\n",
      " |  \n",
      " |  get_default(self, *, include_secrets: bool = False) -> azure.ml.entities._datastore.datastore.Datastore\n",
      " |      Returns the workspace's default datastore\n",
      " |      \n",
      " |      :param include_secrets: Include datastore secrets in the returned datastore, defaults to False\n",
      " |      :type include_secrets: bool, optional\n",
      " |      :return: The default datastore.\n",
      " |      :rtype: Datastore\n",
      " |  \n",
      " |  list(self, *, include_secrets: bool = False) -> Iterable[azure.ml.entities._datastore.datastore.Datastore]\n",
      " |      Lists all datastores and associated information within a workspace\n",
      " |      \n",
      " |      :param include_secrets: Include datastore secrets in returned datastores, defaults to False\n",
      " |      :type include_secrets: bool, optional\n",
      " |      :return: An iterator like instance of Datastore objects\n",
      " |      :rtype: ~azure.core.paging.ItemPaged[Datastore]\n",
      " |  \n",
      " |  ----------------------------------------------------------------------\n",
      " |  Data descriptors inherited from azure.ml._scope_dependent_operations._ScopeDependentOperations:\n",
      " |  \n",
      " |  __dict__\n",
      " |      dictionary for instance variables (if defined)\n",
      " |  \n",
      " |  __weakref__\n",
      " |      list of weak references to the object (if defined)\n",
      "\n"
     ]
    }
   ],
   "source": [
    "help(wsc.datastores)"
   ]
  },
  {
   "cell_type": "code",
   "execution_count": 20,
   "metadata": {},
   "outputs": [
    {
     "name": "stdout",
     "output_type": "stream",
     "text": [
      "workspaceartifactstore\n",
      "AzureBlobDatastore({'type': <DatastoreType.AZURE_BLOB: 'AzureBlob'>, 'name': 'workspaceartifactstore', 'description': None, 'tags': {}, 'properties': {}, 'id': '/subscriptions/6560575d-fa06-4e7d-95fb-f962e74efd7a/resourceGroups/cody-dev/providers/Microsoft.MachineLearningServices/workspaces/main-dev/datastores/workspaceartifactstore', 'base_path': './', 'creation_context': None, 'serialize': <msrest.serialization.Serializer object at 0x12533afd0>, 'credentials': <azure.ml.entities._datastore.credentials.AccountKeyCredentials object at 0x127244e50>, 'container_name': 'azureml', 'account_name': 'maindevstoragefe42dbb299', 'endpoint': 'core.windows.net', 'protocol': 'https'})\n",
      "\n",
      "\n",
      "workspacefilestore\n",
      "AzureFileDatastore({'type': <DatastoreType.AZURE_FILE: 'AzureFile'>, 'name': 'workspacefilestore', 'description': None, 'tags': {}, 'properties': {}, 'id': '/subscriptions/6560575d-fa06-4e7d-95fb-f962e74efd7a/resourceGroups/cody-dev/providers/Microsoft.MachineLearningServices/workspaces/main-dev/datastores/workspacefilestore', 'base_path': './', 'creation_context': None, 'serialize': <msrest.serialization.Serializer object at 0x12533ab80>, 'credentials': <azure.ml.entities._datastore.credentials.AccountKeyCredentials object at 0x12533af40>, 'file_share_name': 'azureml-filestore-5c9855f4-1971-4eb7-9e68-3dc487ff80c0', 'account_name': 'maindevstoragefe42dbb299', 'endpoint': 'core.windows.net', 'protocol': 'https'})\n",
      "\n",
      "\n",
      "workspaceworkingdirectory\n",
      "AzureFileDatastore({'type': <DatastoreType.AZURE_FILE: 'AzureFile'>, 'name': 'workspaceworkingdirectory', 'description': None, 'tags': {}, 'properties': {}, 'id': '/subscriptions/6560575d-fa06-4e7d-95fb-f962e74efd7a/resourceGroups/cody-dev/providers/Microsoft.MachineLearningServices/workspaces/main-dev/datastores/workspaceworkingdirectory', 'base_path': './', 'creation_context': None, 'serialize': <msrest.serialization.Serializer object at 0x12533ae80>, 'credentials': <azure.ml.entities._datastore.credentials.AccountKeyCredentials object at 0x12533aca0>, 'file_share_name': 'code-391ff5ac-6576-460f-ba4d-7e03433c68b6', 'account_name': 'maindevstoragefe42dbb299', 'endpoint': 'core.windows.net', 'protocol': 'https'})\n",
      "\n",
      "\n",
      "workspaceblobstore\n",
      "AzureBlobDatastore({'type': <DatastoreType.AZURE_BLOB: 'AzureBlob'>, 'name': 'workspaceblobstore', 'description': None, 'tags': {}, 'properties': {}, 'id': '/subscriptions/6560575d-fa06-4e7d-95fb-f962e74efd7a/resourceGroups/cody-dev/providers/Microsoft.MachineLearningServices/workspaces/main-dev/datastores/workspaceblobstore', 'base_path': './', 'creation_context': None, 'serialize': <msrest.serialization.Serializer object at 0x125311ca0>, 'credentials': <azure.ml.entities._datastore.credentials.AccountKeyCredentials object at 0x12533af10>, 'container_name': 'azureml-blobstore-5c9855f4-1971-4eb7-9e68-3dc487ff80c0', 'account_name': 'maindevstoragefe42dbb299', 'endpoint': 'core.windows.net', 'protocol': 'https'})\n",
      "\n",
      "\n"
     ]
    }
   ],
   "source": [
    "for datastore in wsc.datastores.list():\n",
    "    print(datastore.name)\n",
    "    print(datastore)\n",
    "    print(\"\\n\")"
   ]
  },
  {
   "cell_type": "code",
   "execution_count": 19,
   "metadata": {},
   "outputs": [
    {
     "name": "stdout",
     "output_type": "stream",
     "text": [
      "mnist-folder-v1\n",
      "Data({'type': 'mltable', 'is_anonymous': False, 'auto_increment_version': True, 'name': 'mnist-folder-v1', 'description': None, 'tags': {}, 'properties': {}, 'id': None, 'base_path': './', 'creation_context': <azure.ml._restclient.v2022_02_01_preview.models._models_py3.SystemData object at 0x127244460>, 'serialize': <msrest.serialization.Serializer object at 0x12535e670>, 'version': None, 'latest_version': '0fc6e75f-4fe0-490c-8b44-7384bd53438c_MQ', 'path': None, 'referenced_uris': None})\n",
      "\n",
      "\n",
      "titantic-file-v1\n",
      "Data({'type': 'mltable', 'is_anonymous': False, 'auto_increment_version': True, 'name': 'titantic-file-v1', 'description': None, 'tags': {}, 'properties': {}, 'id': None, 'base_path': './', 'creation_context': <azure.ml._restclient.v2022_02_01_preview.models._models_py3.SystemData object at 0x127244850>, 'serialize': <msrest.serialization.Serializer object at 0x12535edc0>, 'version': None, 'latest_version': '21087169-2cd5-40a5-a8eb-8be989463b47_MQ', 'path': None, 'referenced_uris': None})\n",
      "\n",
      "\n",
      "titanic-tabular-v1\n",
      "Data({'type': 'mltable', 'is_anonymous': False, 'auto_increment_version': True, 'name': 'titanic-tabular-v1', 'description': None, 'tags': {}, 'properties': {}, 'id': None, 'base_path': './', 'creation_context': <azure.ml._restclient.v2022_02_01_preview.models._models_py3.SystemData object at 0x12535e820>, 'serialize': <msrest.serialization.Serializer object at 0x12535e5e0>, 'version': None, 'latest_version': 'f28784a1-0fd8-4015-a407-147c036b09f0_MQ', 'path': None, 'referenced_uris': None})\n",
      "\n",
      "\n"
     ]
    }
   ],
   "source": [
    "for data in wsc.data.list():\n",
    "    print(data.name)\n",
    "    print(data)\n",
    "    print(\"\\n\")"
   ]
  },
  {
   "cell_type": "code",
   "execution_count": 21,
   "metadata": {},
   "outputs": [
    {
     "name": "stdout",
     "output_type": "stream",
     "text": [
      "Help on DataOperations in module azure.ml._operations.data_operations object:\n",
      "\n",
      "class DataOperations(azure.ml._scope_dependent_operations._ScopeDependentOperations)\n",
      " |  DataOperations(operation_scope: azure.ml._scope_dependent_operations.OperationScope, service_client: azure.ml._restclient.v2022_02_01_preview._azure_machine_learning_workspaces.AzureMachineLearningWorkspaces, datastore_operations: azure.ml._operations.datastore_operations.DatastoreOperations, **kwargs: Dict)\n",
      " |  \n",
      " |  Method resolution order:\n",
      " |      DataOperations\n",
      " |      azure.ml._scope_dependent_operations._ScopeDependentOperations\n",
      " |      builtins.object\n",
      " |  \n",
      " |  Methods defined here:\n",
      " |  \n",
      " |  __init__(self, operation_scope: azure.ml._scope_dependent_operations.OperationScope, service_client: azure.ml._restclient.v2022_02_01_preview._azure_machine_learning_workspaces.AzureMachineLearningWorkspaces, datastore_operations: azure.ml._operations.datastore_operations.DatastoreOperations, **kwargs: Dict)\n",
      " |      Initialize self.  See help(type(self)) for accurate signature.\n",
      " |  \n",
      " |  archive(self, name: str, version: str = None, label: str = None) -> None\n",
      " |      Archive a data asset.\n",
      " |      \n",
      " |      :param name: Name of data asset.\n",
      " |      :type name: str\n",
      " |      :param version: Version of data asset.\n",
      " |      :type version: str\n",
      " |      :param label: Label of the data asset. (mutually exclusive with version)\n",
      " |      :type label: str\n",
      " |      :return: None\n",
      " |  \n",
      " |  create_or_update(self, data: azure.ml.entities._assets._artifacts.data.Data) -> azure.ml.entities._assets._artifacts.data.Data\n",
      " |      Returns created or updated data asset.\n",
      " |      \n",
      " |      If not already in storage, asset will be uploaded to datastore name specified in data.datastore or the workspace's default datastore.\n",
      " |      \n",
      " |      :param data: Data asset object.\n",
      " |      :type data: Data\n",
      " |      :return: Data asset object.\n",
      " |  \n",
      " |  get(self, name: str, version: Optional[str] = None, label: Optional[str] = None) -> azure.ml.entities._assets._artifacts.data.Data\n",
      " |      Get the specified data asset.\n",
      " |      \n",
      " |      :param name: Name of data asset.\n",
      " |      :type name: str\n",
      " |      :param version: Version of data asset.\n",
      " |      :type version: str\n",
      " |      :param label: Label of the data asset. (mutually exclusive with version)\n",
      " |      :type label: str\n",
      " |      :return: Data asset object.\n",
      " |  \n",
      " |  list(self, name: Optional[str] = None, include_archived: bool = False) -> azure.core.paging.ItemPaged[azure.ml.entities._assets._artifacts.data.Data]\n",
      " |      List the data assets of the workspace.\n",
      " |      \n",
      " |      :param name: Name of a specific data asset, optional.\n",
      " |      :type name: Optional[str]\n",
      " |      :param include_archived: A flag to indicate whether to return archived data assets and active data assets. Default: False.\n",
      " |      :type include_archived: Optional[bool]\n",
      " |      :return: An iterator like instance of Data objects\n",
      " |      :rtype: ~azure.core.paging.ItemPaged[Data]\n",
      " |  \n",
      " |  restore(self, name: str, version: str = None, label: str = None) -> None\n",
      " |      Restore an archived data asset.\n",
      " |      \n",
      " |      :param name: Name of data asset.\n",
      " |      :type name: str\n",
      " |      :param version: Version of data asset.\n",
      " |      :type version: str\n",
      " |      :param label: Label of the data asset. (mutually exclusive with version)\n",
      " |      :type label: str\n",
      " |      :return: None\n",
      " |  \n",
      " |  ----------------------------------------------------------------------\n",
      " |  Data descriptors inherited from azure.ml._scope_dependent_operations._ScopeDependentOperations:\n",
      " |  \n",
      " |  __dict__\n",
      " |      dictionary for instance variables (if defined)\n",
      " |  \n",
      " |  __weakref__\n",
      " |      list of weak references to the object (if defined)\n",
      "\n"
     ]
    }
   ],
   "source": [
    "help(wsc.data)"
   ]
  },
  {
   "cell_type": "code",
   "execution_count": 23,
   "metadata": {},
   "outputs": [
    {
     "name": "stdout",
     "output_type": "stream",
     "text": [
      "cpu-cluster\n",
      "AmlCompute({'type': 'amlcompute', 'created_on': None, 'provisioning_state': 'Succeeded', 'provisioning_errors': None, 'name': 'cpu-cluster', 'description': None, 'tags': {}, 'properties': {}, 'id': '/subscriptions/6560575d-fa06-4e7d-95fb-f962e74efd7a/resourceGroups/cody-dev/providers/Microsoft.MachineLearningServices/workspaces/main-dev/computes/cpu-cluster', 'base_path': './', 'creation_context': None, 'serialize': <msrest.serialization.Serializer object at 0x12724e880>, 'resource_id': None, 'location': 'eastus', 'size': 'STANDARD_DS3_V2', 'min_instances': 1, 'max_instances': 8, 'idle_time_before_scale_down': 120.0, 'identity': None, 'ssh_public_access_enabled': True, 'ssh_settings': None, 'network_settings': <azure.ml.entities._compute.compute.NetworkSettings object at 0x127244190>, 'tier': 'dedicated'})\n",
      "\n",
      "\n",
      "cody-dev\n",
      "ComputeInstance({'state': 'Running', 'last_operation': {'operation_name': 'Create', 'operation_time': '2022-04-15T22:30:00.415Z', 'operation_status': 'Succeeded'}, 'services': [{'display_name': 'Jupyter', 'endpoint_uri': 'https://cody-dev.eastus.instances.azureml.ms/tree/'}, {'display_name': 'Jupyter Lab', 'endpoint_uri': 'https://cody-dev.eastus.instances.azureml.ms/lab'}, {'display_name': 'RStudio', 'endpoint_uri': 'https://cody-dev-8787.eastus.instances.azureml.ms'}], 'type': 'computeinstance', 'created_on': None, 'provisioning_state': 'Succeeded', 'provisioning_errors': None, 'name': 'cody-dev', 'description': None, 'tags': {}, 'properties': {}, 'id': '/subscriptions/6560575d-fa06-4e7d-95fb-f962e74efd7a/resourceGroups/cody-dev/providers/Microsoft.MachineLearningServices/workspaces/main-dev/computes/cody-dev', 'base_path': './', 'creation_context': None, 'serialize': <msrest.serialization.Serializer object at 0x12724e580>, 'resource_id': None, 'location': 'eastus', 'size': 'STANDARD_DS3_V2', 'ssh_public_access_enabled': False, 'create_on_behalf_of': None, 'network_settings': <azure.ml.entities._compute.compute.NetworkSettings object at 0x12724ea00>, 'ssh_settings': <azure.ml.entities._compute.compute_instance.ComputeInstanceSshSettings object at 0x12724ea30>, 'schedules': None})\n",
      "\n",
      "\n"
     ]
    }
   ],
   "source": [
    "for compute in wsc.compute.list():\n",
    "    print(compute.name)\n",
    "    print(compute)\n",
    "    print(\"\\n\")"
   ]
  },
  {
   "cell_type": "code",
   "execution_count": 24,
   "metadata": {},
   "outputs": [],
   "source": [
    "for connection in wsc.connections.list():\n",
    "    print(connection.name)\n",
    "    print(connection)\n",
    "    print(\"\\n\")"
   ]
  },
  {
   "cell_type": "code",
   "execution_count": 26,
   "metadata": {},
   "outputs": [
    {
     "name": "stdout",
     "output_type": "stream",
     "text": [
      "test\n",
      "Model({'job_name': None, 'is_anonymous': False, 'auto_increment_version': True, 'name': 'test', 'description': None, 'tags': {}, 'properties': {}, 'id': '/subscriptions/6560575d-fa06-4e7d-95fb-f962e74efd7a/resourceGroups/cody-dev/providers/Microsoft.MachineLearningServices/workspaces/main-dev/models/test', 'base_path': './', 'creation_context': <azure.ml._restclient.v2022_02_01_preview.models._models_py3.SystemData object at 0x12722e760>, 'serialize': <msrest.serialization.Serializer object at 0x12722eac0>, 'version': None, 'latest_version': '1', 'path': None, 'utc_time_created': None, 'flavors': None, 'arm_type': 'model_version', 'type': 'custom_model'})\n",
      "\n",
      "\n"
     ]
    }
   ],
   "source": [
    "for model in wsc.models.list():\n",
    "    print(model.name)\n",
    "    print(model)\n",
    "    print(\"\\n\")"
   ]
  },
  {
   "cell_type": "code",
   "execution_count": 27,
   "metadata": {},
   "outputs": [
    {
     "data": {
      "text/plain": [
       "'main-dev'"
      ]
     },
     "execution_count": 27,
     "metadata": {},
     "output_type": "execute_result"
    }
   ],
   "source": [
    "wsc.workspace_name"
   ]
  },
  {
   "cell_type": "code",
   "execution_count": 29,
   "metadata": {},
   "outputs": [
    {
     "name": "stdout",
     "output_type": "stream",
     "text": [
      "AzureML-pytorch-1.9-ubuntu18.04-py37-cuda11-gpu\n",
      "Environment({'is_anonymous': False, 'auto_increment_version': True, 'name': 'AzureML-pytorch-1.9-ubuntu18.04-py37-cuda11-gpu', 'description': None, 'tags': {}, 'properties': {}, 'id': '/subscriptions/6560575d-fa06-4e7d-95fb-f962e74efd7a/resourceGroups/cody-dev/providers/Microsoft.MachineLearningServices/workspaces/main-dev/environments/AzureML-pytorch-1.9-ubuntu18.04-py37-cuda11-gpu', 'base_path': './', 'creation_context': <azure.ml._restclient.v2022_02_01_preview.models._models_py3.SystemData object at 0x12535ec40>, 'serialize': <msrest.serialization.Serializer object at 0x12727d070>, 'version': None, 'latest_version': '25', 'conda_file': None, 'image': None, 'build': None, 'inference_config': None, 'os_type': None, 'arm_type': 'environment_version', 'conda_file_path': None, 'path': None, 'upload_hash': None, 'translated_conda_file': None, 'docker': None})\n",
      "\n",
      "\n",
      "AzureML-pytorch-1.10-ubuntu18.04-py38-cuda11-gpu\n",
      "Environment({'is_anonymous': False, 'auto_increment_version': True, 'name': 'AzureML-pytorch-1.10-ubuntu18.04-py38-cuda11-gpu', 'description': None, 'tags': {}, 'properties': {}, 'id': '/subscriptions/6560575d-fa06-4e7d-95fb-f962e74efd7a/resourceGroups/cody-dev/providers/Microsoft.MachineLearningServices/workspaces/main-dev/environments/AzureML-pytorch-1.10-ubuntu18.04-py38-cuda11-gpu', 'base_path': './', 'creation_context': <azure.ml._restclient.v2022_02_01_preview.models._models_py3.SystemData object at 0x12535e4f0>, 'serialize': <msrest.serialization.Serializer object at 0x12727d670>, 'version': None, 'latest_version': '18', 'conda_file': None, 'image': None, 'build': None, 'inference_config': None, 'os_type': None, 'arm_type': 'environment_version', 'conda_file_path': None, 'path': None, 'upload_hash': None, 'translated_conda_file': None, 'docker': None})\n",
      "\n",
      "\n",
      "AzureML-pytorch-1.7-ubuntu18.04-py37-cuda11-gpu\n",
      "Environment({'is_anonymous': False, 'auto_increment_version': True, 'name': 'AzureML-pytorch-1.7-ubuntu18.04-py37-cuda11-gpu', 'description': None, 'tags': {}, 'properties': {}, 'id': '/subscriptions/6560575d-fa06-4e7d-95fb-f962e74efd7a/resourceGroups/cody-dev/providers/Microsoft.MachineLearningServices/workspaces/main-dev/environments/AzureML-pytorch-1.7-ubuntu18.04-py37-cuda11-gpu', 'base_path': './', 'creation_context': <azure.ml._restclient.v2022_02_01_preview.models._models_py3.SystemData object at 0x12535e100>, 'serialize': <msrest.serialization.Serializer object at 0x12727d700>, 'version': None, 'latest_version': '32', 'conda_file': None, 'image': None, 'build': None, 'inference_config': None, 'os_type': None, 'arm_type': 'environment_version', 'conda_file_path': None, 'path': None, 'upload_hash': None, 'translated_conda_file': None, 'docker': None})\n",
      "\n",
      "\n",
      "AzureML-pytorch-1.8-ubuntu18.04-py37-cuda11-gpu\n",
      "Environment({'is_anonymous': False, 'auto_increment_version': True, 'name': 'AzureML-pytorch-1.8-ubuntu18.04-py37-cuda11-gpu', 'description': None, 'tags': {}, 'properties': {}, 'id': '/subscriptions/6560575d-fa06-4e7d-95fb-f962e74efd7a/resourceGroups/cody-dev/providers/Microsoft.MachineLearningServices/workspaces/main-dev/environments/AzureML-pytorch-1.8-ubuntu18.04-py37-cuda11-gpu', 'base_path': './', 'creation_context': <azure.ml._restclient.v2022_02_01_preview.models._models_py3.SystemData object at 0x12535e130>, 'serialize': <msrest.serialization.Serializer object at 0x12727d790>, 'version': None, 'latest_version': '25', 'conda_file': None, 'image': None, 'build': None, 'inference_config': None, 'os_type': None, 'arm_type': 'environment_version', 'conda_file_path': None, 'path': None, 'upload_hash': None, 'translated_conda_file': None, 'docker': None})\n",
      "\n",
      "\n",
      "AzureML-tensorflow-2.6-ubuntu20.04-py38-cuda11-gpu\n",
      "Environment({'is_anonymous': False, 'auto_increment_version': True, 'name': 'AzureML-tensorflow-2.6-ubuntu20.04-py38-cuda11-gpu', 'description': None, 'tags': {}, 'properties': {}, 'id': '/subscriptions/6560575d-fa06-4e7d-95fb-f962e74efd7a/resourceGroups/cody-dev/providers/Microsoft.MachineLearningServices/workspaces/main-dev/environments/AzureML-tensorflow-2.6-ubuntu20.04-py38-cuda11-gpu', 'base_path': './', 'creation_context': <azure.ml._restclient.v2022_02_01_preview.models._models_py3.SystemData object at 0x12535edc0>, 'serialize': <msrest.serialization.Serializer object at 0x12727d820>, 'version': None, 'latest_version': '10', 'conda_file': None, 'image': None, 'build': None, 'inference_config': None, 'os_type': None, 'arm_type': 'environment_version', 'conda_file_path': None, 'path': None, 'upload_hash': None, 'translated_conda_file': None, 'docker': None})\n",
      "\n",
      "\n",
      "AzureML-pytorch-1.9-ubuntu18.04-py37-cuda11.0.3-gpu-inference\n",
      "Environment({'is_anonymous': False, 'auto_increment_version': True, 'name': 'AzureML-pytorch-1.9-ubuntu18.04-py37-cuda11.0.3-gpu-inference', 'description': None, 'tags': {}, 'properties': {}, 'id': '/subscriptions/6560575d-fa06-4e7d-95fb-f962e74efd7a/resourceGroups/cody-dev/providers/Microsoft.MachineLearningServices/workspaces/main-dev/environments/AzureML-pytorch-1.9-ubuntu18.04-py37-cuda11.0.3-gpu-inference', 'base_path': './', 'creation_context': <azure.ml._restclient.v2022_02_01_preview.models._models_py3.SystemData object at 0x12535ee50>, 'serialize': <msrest.serialization.Serializer object at 0x12727d8b0>, 'version': None, 'latest_version': '2', 'conda_file': None, 'image': None, 'build': None, 'inference_config': None, 'os_type': None, 'arm_type': 'environment_version', 'conda_file_path': None, 'path': None, 'upload_hash': None, 'translated_conda_file': None, 'docker': None})\n",
      "\n",
      "\n",
      "AzureML-tensorflow-2.5-ubuntu20.04-py38-cuda11-gpu\n",
      "Environment({'is_anonymous': False, 'auto_increment_version': True, 'name': 'AzureML-tensorflow-2.5-ubuntu20.04-py38-cuda11-gpu', 'description': None, 'tags': {}, 'properties': {}, 'id': '/subscriptions/6560575d-fa06-4e7d-95fb-f962e74efd7a/resourceGroups/cody-dev/providers/Microsoft.MachineLearningServices/workspaces/main-dev/environments/AzureML-tensorflow-2.5-ubuntu20.04-py38-cuda11-gpu', 'base_path': './', 'creation_context': <azure.ml._restclient.v2022_02_01_preview.models._models_py3.SystemData object at 0x125311730>, 'serialize': <msrest.serialization.Serializer object at 0x12727d940>, 'version': None, 'latest_version': '9', 'conda_file': None, 'image': None, 'build': None, 'inference_config': None, 'os_type': None, 'arm_type': 'environment_version', 'conda_file_path': None, 'path': None, 'upload_hash': None, 'translated_conda_file': None, 'docker': None})\n",
      "\n",
      "\n",
      "AzureML-tensorflow-2.7-ubuntu20.04-py38-cuda11-gpu\n",
      "Environment({'is_anonymous': False, 'auto_increment_version': True, 'name': 'AzureML-tensorflow-2.7-ubuntu20.04-py38-cuda11-gpu', 'description': None, 'tags': {}, 'properties': {}, 'id': '/subscriptions/6560575d-fa06-4e7d-95fb-f962e74efd7a/resourceGroups/cody-dev/providers/Microsoft.MachineLearningServices/workspaces/main-dev/environments/AzureML-tensorflow-2.7-ubuntu20.04-py38-cuda11-gpu', 'base_path': './', 'creation_context': <azure.ml._restclient.v2022_02_01_preview.models._models_py3.SystemData object at 0x125311d60>, 'serialize': <msrest.serialization.Serializer object at 0x12727d9d0>, 'version': None, 'latest_version': '10', 'conda_file': None, 'image': None, 'build': None, 'inference_config': None, 'os_type': None, 'arm_type': 'environment_version', 'conda_file_path': None, 'path': None, 'upload_hash': None, 'translated_conda_file': None, 'docker': None})\n",
      "\n",
      "\n",
      "AzureML-tensorflow-2.4-ubuntu18.04-py37-cuda11-gpu\n",
      "Environment({'is_anonymous': False, 'auto_increment_version': True, 'name': 'AzureML-tensorflow-2.4-ubuntu18.04-py37-cuda11-gpu', 'description': None, 'tags': {}, 'properties': {}, 'id': '/subscriptions/6560575d-fa06-4e7d-95fb-f962e74efd7a/resourceGroups/cody-dev/providers/Microsoft.MachineLearningServices/workspaces/main-dev/environments/AzureML-tensorflow-2.4-ubuntu18.04-py37-cuda11-gpu', 'base_path': './', 'creation_context': <azure.ml._restclient.v2022_02_01_preview.models._models_py3.SystemData object at 0x125311c10>, 'serialize': <msrest.serialization.Serializer object at 0x12727da60>, 'version': None, 'latest_version': '33', 'conda_file': None, 'image': None, 'build': None, 'inference_config': None, 'os_type': None, 'arm_type': 'environment_version', 'conda_file_path': None, 'path': None, 'upload_hash': None, 'translated_conda_file': None, 'docker': None})\n",
      "\n",
      "\n",
      "AzureML-pytorch-1.10-ubuntu18.04-py37-cpu-inference\n",
      "Environment({'is_anonymous': False, 'auto_increment_version': True, 'name': 'AzureML-pytorch-1.10-ubuntu18.04-py37-cpu-inference', 'description': None, 'tags': {}, 'properties': {}, 'id': '/subscriptions/6560575d-fa06-4e7d-95fb-f962e74efd7a/resourceGroups/cody-dev/providers/Microsoft.MachineLearningServices/workspaces/main-dev/environments/AzureML-pytorch-1.10-ubuntu18.04-py37-cpu-inference', 'base_path': './', 'creation_context': <azure.ml._restclient.v2022_02_01_preview.models._models_py3.SystemData object at 0x12724ec10>, 'serialize': <msrest.serialization.Serializer object at 0x12727daf0>, 'version': None, 'latest_version': '2', 'conda_file': None, 'image': None, 'build': None, 'inference_config': None, 'os_type': None, 'arm_type': 'environment_version', 'conda_file_path': None, 'path': None, 'upload_hash': None, 'translated_conda_file': None, 'docker': None})\n",
      "\n",
      "\n",
      "AzureML-sklearn-0.24-ubuntu18.04-py37-cpu\n",
      "Environment({'is_anonymous': False, 'auto_increment_version': True, 'name': 'AzureML-sklearn-0.24-ubuntu18.04-py37-cpu', 'description': None, 'tags': {}, 'properties': {}, 'id': '/subscriptions/6560575d-fa06-4e7d-95fb-f962e74efd7a/resourceGroups/cody-dev/providers/Microsoft.MachineLearningServices/workspaces/main-dev/environments/AzureML-sklearn-0.24-ubuntu18.04-py37-cpu', 'base_path': './', 'creation_context': <azure.ml._restclient.v2022_02_01_preview.models._models_py3.SystemData object at 0x12724e310>, 'serialize': <msrest.serialization.Serializer object at 0x12727db80>, 'version': None, 'latest_version': '28', 'conda_file': None, 'image': None, 'build': None, 'inference_config': None, 'os_type': None, 'arm_type': 'environment_version', 'conda_file_path': None, 'path': None, 'upload_hash': None, 'translated_conda_file': None, 'docker': None})\n",
      "\n",
      "\n",
      "AzureML-tensorflow-2.4-ubuntu18.04-py37-cpu-inference\n",
      "Environment({'is_anonymous': False, 'auto_increment_version': True, 'name': 'AzureML-tensorflow-2.4-ubuntu18.04-py37-cpu-inference', 'description': None, 'tags': {}, 'properties': {}, 'id': '/subscriptions/6560575d-fa06-4e7d-95fb-f962e74efd7a/resourceGroups/cody-dev/providers/Microsoft.MachineLearningServices/workspaces/main-dev/environments/AzureML-tensorflow-2.4-ubuntu18.04-py37-cpu-inference', 'base_path': './', 'creation_context': <azure.ml._restclient.v2022_02_01_preview.models._models_py3.SystemData object at 0x12724e0a0>, 'serialize': <msrest.serialization.Serializer object at 0x12727dc10>, 'version': None, 'latest_version': '35', 'conda_file': None, 'image': None, 'build': None, 'inference_config': None, 'os_type': None, 'arm_type': 'environment_version', 'conda_file_path': None, 'path': None, 'upload_hash': None, 'translated_conda_file': None, 'docker': None})\n",
      "\n",
      "\n",
      "AzureML-lightgbm-3.2-ubuntu18.04-py37-cpu\n",
      "Environment({'is_anonymous': False, 'auto_increment_version': True, 'name': 'AzureML-lightgbm-3.2-ubuntu18.04-py37-cpu', 'description': None, 'tags': {}, 'properties': {}, 'id': '/subscriptions/6560575d-fa06-4e7d-95fb-f962e74efd7a/resourceGroups/cody-dev/providers/Microsoft.MachineLearningServices/workspaces/main-dev/environments/AzureML-lightgbm-3.2-ubuntu18.04-py37-cpu', 'base_path': './', 'creation_context': <azure.ml._restclient.v2022_02_01_preview.models._models_py3.SystemData object at 0x12724e250>, 'serialize': <msrest.serialization.Serializer object at 0x12727dca0>, 'version': None, 'latest_version': '30', 'conda_file': None, 'image': None, 'build': None, 'inference_config': None, 'os_type': None, 'arm_type': 'environment_version', 'conda_file_path': None, 'path': None, 'upload_hash': None, 'translated_conda_file': None, 'docker': None})\n",
      "\n",
      "\n",
      "AzureML-sklearn-0.24.1-ubuntu18.04-py37-cpu-inference\n",
      "Environment({'is_anonymous': False, 'auto_increment_version': True, 'name': 'AzureML-sklearn-0.24.1-ubuntu18.04-py37-cpu-inference', 'description': None, 'tags': {}, 'properties': {}, 'id': '/subscriptions/6560575d-fa06-4e7d-95fb-f962e74efd7a/resourceGroups/cody-dev/providers/Microsoft.MachineLearningServices/workspaces/main-dev/environments/AzureML-sklearn-0.24.1-ubuntu18.04-py37-cpu-inference', 'base_path': './', 'creation_context': <azure.ml._restclient.v2022_02_01_preview.models._models_py3.SystemData object at 0x12724e5b0>, 'serialize': <msrest.serialization.Serializer object at 0x12727dd30>, 'version': None, 'latest_version': '35', 'conda_file': None, 'image': None, 'build': None, 'inference_config': None, 'os_type': None, 'arm_type': 'environment_version', 'conda_file_path': None, 'path': None, 'upload_hash': None, 'translated_conda_file': None, 'docker': None})\n",
      "\n",
      "\n",
      "AzureML-tensorflow-2.4-ubuntu18.04-py37-cuda11.0.3-gpu-inference\n",
      "Environment({'is_anonymous': False, 'auto_increment_version': True, 'name': 'AzureML-tensorflow-2.4-ubuntu18.04-py37-cuda11.0.3-gpu-inference', 'description': None, 'tags': {}, 'properties': {}, 'id': '/subscriptions/6560575d-fa06-4e7d-95fb-f962e74efd7a/resourceGroups/cody-dev/providers/Microsoft.MachineLearningServices/workspaces/main-dev/environments/AzureML-tensorflow-2.4-ubuntu18.04-py37-cuda11.0.3-gpu-inference', 'base_path': './', 'creation_context': <azure.ml._restclient.v2022_02_01_preview.models._models_py3.SystemData object at 0x12724ec70>, 'serialize': <msrest.serialization.Serializer object at 0x12727ddc0>, 'version': None, 'latest_version': '36', 'conda_file': None, 'image': None, 'build': None, 'inference_config': None, 'os_type': None, 'arm_type': 'environment_version', 'conda_file_path': None, 'path': None, 'upload_hash': None, 'translated_conda_file': None, 'docker': None})\n",
      "\n",
      "\n",
      "AzureML-minimal-ubuntu18.04-py37-cuda11.0.3-gpu-inference\n",
      "Environment({'is_anonymous': False, 'auto_increment_version': True, 'name': 'AzureML-minimal-ubuntu18.04-py37-cuda11.0.3-gpu-inference', 'description': None, 'tags': {}, 'properties': {}, 'id': '/subscriptions/6560575d-fa06-4e7d-95fb-f962e74efd7a/resourceGroups/cody-dev/providers/Microsoft.MachineLearningServices/workspaces/main-dev/environments/AzureML-minimal-ubuntu18.04-py37-cuda11.0.3-gpu-inference', 'base_path': './', 'creation_context': <azure.ml._restclient.v2022_02_01_preview.models._models_py3.SystemData object at 0x12724ee50>, 'serialize': <msrest.serialization.Serializer object at 0x12727de50>, 'version': None, 'latest_version': '2', 'conda_file': None, 'image': None, 'build': None, 'inference_config': None, 'os_type': None, 'arm_type': 'environment_version', 'conda_file_path': None, 'path': None, 'upload_hash': None, 'translated_conda_file': None, 'docker': None})\n",
      "\n",
      "\n",
      "AzureML-sklearn-1.0-ubuntu20.04-py38-cpu\n",
      "Environment({'is_anonymous': False, 'auto_increment_version': True, 'name': 'AzureML-sklearn-1.0-ubuntu20.04-py38-cpu', 'description': None, 'tags': {}, 'properties': {}, 'id': '/subscriptions/6560575d-fa06-4e7d-95fb-f962e74efd7a/resourceGroups/cody-dev/providers/Microsoft.MachineLearningServices/workspaces/main-dev/environments/AzureML-sklearn-1.0-ubuntu20.04-py38-cpu', 'base_path': './', 'creation_context': <azure.ml._restclient.v2022_02_01_preview.models._models_py3.SystemData object at 0x12724e700>, 'serialize': <msrest.serialization.Serializer object at 0x12727dee0>, 'version': None, 'latest_version': '14', 'conda_file': None, 'image': None, 'build': None, 'inference_config': None, 'os_type': None, 'arm_type': 'environment_version', 'conda_file_path': None, 'path': None, 'upload_hash': None, 'translated_conda_file': None, 'docker': None})\n",
      "\n",
      "\n",
      "AzureML-pytorch-1.9-ubuntu18.04-py37-cpu-inference\n",
      "Environment({'is_anonymous': False, 'auto_increment_version': True, 'name': 'AzureML-pytorch-1.9-ubuntu18.04-py37-cpu-inference', 'description': None, 'tags': {}, 'properties': {}, 'id': '/subscriptions/6560575d-fa06-4e7d-95fb-f962e74efd7a/resourceGroups/cody-dev/providers/Microsoft.MachineLearningServices/workspaces/main-dev/environments/AzureML-pytorch-1.9-ubuntu18.04-py37-cpu-inference', 'base_path': './', 'creation_context': <azure.ml._restclient.v2022_02_01_preview.models._models_py3.SystemData object at 0x12724e6a0>, 'serialize': <msrest.serialization.Serializer object at 0x12727df70>, 'version': None, 'latest_version': '2', 'conda_file': None, 'image': None, 'build': None, 'inference_config': None, 'os_type': None, 'arm_type': 'environment_version', 'conda_file_path': None, 'path': None, 'upload_hash': None, 'translated_conda_file': None, 'docker': None})\n",
      "\n",
      "\n",
      "AzureML-tensorflow-1.15-ubuntu18.04-py37-cpu-inference\n",
      "Environment({'is_anonymous': False, 'auto_increment_version': True, 'name': 'AzureML-tensorflow-1.15-ubuntu18.04-py37-cpu-inference', 'description': None, 'tags': {}, 'properties': {}, 'id': '/subscriptions/6560575d-fa06-4e7d-95fb-f962e74efd7a/resourceGroups/cody-dev/providers/Microsoft.MachineLearningServices/workspaces/main-dev/environments/AzureML-tensorflow-1.15-ubuntu18.04-py37-cpu-inference', 'base_path': './', 'creation_context': <azure.ml._restclient.v2022_02_01_preview.models._models_py3.SystemData object at 0x12724e850>, 'serialize': <msrest.serialization.Serializer object at 0x127276040>, 'version': None, 'latest_version': '35', 'conda_file': None, 'image': None, 'build': None, 'inference_config': None, 'os_type': None, 'arm_type': 'environment_version', 'conda_file_path': None, 'path': None, 'upload_hash': None, 'translated_conda_file': None, 'docker': None})\n",
      "\n",
      "\n",
      "AzureML-xgboost-0.9-ubuntu18.04-py37-cpu-inference\n",
      "Environment({'is_anonymous': False, 'auto_increment_version': True, 'name': 'AzureML-xgboost-0.9-ubuntu18.04-py37-cpu-inference', 'description': None, 'tags': {}, 'properties': {}, 'id': '/subscriptions/6560575d-fa06-4e7d-95fb-f962e74efd7a/resourceGroups/cody-dev/providers/Microsoft.MachineLearningServices/workspaces/main-dev/environments/AzureML-xgboost-0.9-ubuntu18.04-py37-cpu-inference', 'base_path': './', 'creation_context': <azure.ml._restclient.v2022_02_01_preview.models._models_py3.SystemData object at 0x12724ea60>, 'serialize': <msrest.serialization.Serializer object at 0x1272760d0>, 'version': None, 'latest_version': '35', 'conda_file': None, 'image': None, 'build': None, 'inference_config': None, 'os_type': None, 'arm_type': 'environment_version', 'conda_file_path': None, 'path': None, 'upload_hash': None, 'translated_conda_file': None, 'docker': None})\n",
      "\n",
      "\n",
      "AzureML-minimal-ubuntu18.04-py37-cpu-inference\n",
      "Environment({'is_anonymous': False, 'auto_increment_version': True, 'name': 'AzureML-minimal-ubuntu18.04-py37-cpu-inference', 'description': None, 'tags': {}, 'properties': {}, 'id': '/subscriptions/6560575d-fa06-4e7d-95fb-f962e74efd7a/resourceGroups/cody-dev/providers/Microsoft.MachineLearningServices/workspaces/main-dev/environments/AzureML-minimal-ubuntu18.04-py37-cpu-inference', 'base_path': './', 'creation_context': <azure.ml._restclient.v2022_02_01_preview.models._models_py3.SystemData object at 0x12724ed60>, 'serialize': <msrest.serialization.Serializer object at 0x127276160>, 'version': None, 'latest_version': '35', 'conda_file': None, 'image': None, 'build': None, 'inference_config': None, 'os_type': None, 'arm_type': 'environment_version', 'conda_file_path': None, 'path': None, 'upload_hash': None, 'translated_conda_file': None, 'docker': None})\n",
      "\n",
      "\n",
      "AzureML-mlflow-ubuntu18.04-py37-cpu-inference\n",
      "Environment({'is_anonymous': False, 'auto_increment_version': True, 'name': 'AzureML-mlflow-ubuntu18.04-py37-cpu-inference', 'description': None, 'tags': {}, 'properties': {}, 'id': '/subscriptions/6560575d-fa06-4e7d-95fb-f962e74efd7a/resourceGroups/cody-dev/providers/Microsoft.MachineLearningServices/workspaces/main-dev/environments/AzureML-mlflow-ubuntu18.04-py37-cpu-inference', 'base_path': './', 'creation_context': <azure.ml._restclient.v2022_02_01_preview.models._models_py3.SystemData object at 0x12724efa0>, 'serialize': <msrest.serialization.Serializer object at 0x1272761f0>, 'version': None, 'latest_version': '35', 'conda_file': None, 'image': None, 'build': None, 'inference_config': None, 'os_type': None, 'arm_type': 'environment_version', 'conda_file_path': None, 'path': None, 'upload_hash': None, 'translated_conda_file': None, 'docker': None})\n",
      "\n",
      "\n",
      "AzureML-lightgbm-3.2-ubuntu18.04-py37-cpu-inference\n",
      "Environment({'is_anonymous': False, 'auto_increment_version': True, 'name': 'AzureML-lightgbm-3.2-ubuntu18.04-py37-cpu-inference', 'description': None, 'tags': {}, 'properties': {}, 'id': '/subscriptions/6560575d-fa06-4e7d-95fb-f962e74efd7a/resourceGroups/cody-dev/providers/Microsoft.MachineLearningServices/workspaces/main-dev/environments/AzureML-lightgbm-3.2-ubuntu18.04-py37-cpu-inference', 'base_path': './', 'creation_context': <azure.ml._restclient.v2022_02_01_preview.models._models_py3.SystemData object at 0x12727d0d0>, 'serialize': <msrest.serialization.Serializer object at 0x127276280>, 'version': None, 'latest_version': '2', 'conda_file': None, 'image': None, 'build': None, 'inference_config': None, 'os_type': None, 'arm_type': 'environment_version', 'conda_file_path': None, 'path': None, 'upload_hash': None, 'translated_conda_file': None, 'docker': None})\n",
      "\n",
      "\n",
      "AzureML-responsibleai-0.17-ubuntu20.04-py38-cpu\n",
      "Environment({'is_anonymous': False, 'auto_increment_version': True, 'name': 'AzureML-responsibleai-0.17-ubuntu20.04-py38-cpu', 'description': None, 'tags': {}, 'properties': {}, 'id': '/subscriptions/6560575d-fa06-4e7d-95fb-f962e74efd7a/resourceGroups/cody-dev/providers/Microsoft.MachineLearningServices/workspaces/main-dev/environments/AzureML-responsibleai-0.17-ubuntu20.04-py38-cpu', 'base_path': './', 'creation_context': <azure.ml._restclient.v2022_02_01_preview.models._models_py3.SystemData object at 0x12727d1c0>, 'serialize': <msrest.serialization.Serializer object at 0x127276310>, 'version': None, 'latest_version': '3', 'conda_file': None, 'image': None, 'build': None, 'inference_config': None, 'os_type': None, 'arm_type': 'environment_version', 'conda_file_path': None, 'path': None, 'upload_hash': None, 'translated_conda_file': None, 'docker': None})\n",
      "\n",
      "\n",
      "AzureML-Triton\n",
      "Environment({'is_anonymous': False, 'auto_increment_version': True, 'name': 'AzureML-Triton', 'description': None, 'tags': {}, 'properties': {}, 'id': '/subscriptions/6560575d-fa06-4e7d-95fb-f962e74efd7a/resourceGroups/cody-dev/providers/Microsoft.MachineLearningServices/workspaces/main-dev/environments/AzureML-Triton', 'base_path': './', 'creation_context': <azure.ml._restclient.v2022_02_01_preview.models._models_py3.SystemData object at 0x12727d2b0>, 'serialize': <msrest.serialization.Serializer object at 0x1272763a0>, 'version': None, 'latest_version': '23', 'conda_file': None, 'image': None, 'build': None, 'inference_config': None, 'os_type': None, 'arm_type': 'environment_version', 'conda_file_path': None, 'path': None, 'upload_hash': None, 'translated_conda_file': None, 'docker': None})\n",
      "\n",
      "\n",
      "AzureML-PyTorch-1.3-CPU\n",
      "Environment({'is_anonymous': False, 'auto_increment_version': True, 'name': 'AzureML-PyTorch-1.3-CPU', 'description': None, 'tags': {}, 'properties': {}, 'id': '/subscriptions/6560575d-fa06-4e7d-95fb-f962e74efd7a/resourceGroups/cody-dev/providers/Microsoft.MachineLearningServices/workspaces/main-dev/environments/AzureML-PyTorch-1.3-CPU', 'base_path': './', 'creation_context': <azure.ml._restclient.v2022_02_01_preview.models._models_py3.SystemData object at 0x12727d3a0>, 'serialize': <msrest.serialization.Serializer object at 0x127276430>, 'version': None, 'latest_version': '40', 'conda_file': None, 'image': None, 'build': None, 'inference_config': None, 'os_type': None, 'arm_type': 'environment_version', 'conda_file_path': None, 'path': None, 'upload_hash': None, 'translated_conda_file': None, 'docker': None})\n",
      "\n",
      "\n",
      "AzureML-VowpalWabbit-8.8.0\n",
      "Environment({'is_anonymous': False, 'auto_increment_version': True, 'name': 'AzureML-VowpalWabbit-8.8.0', 'description': None, 'tags': {}, 'properties': {}, 'id': '/subscriptions/6560575d-fa06-4e7d-95fb-f962e74efd7a/resourceGroups/cody-dev/providers/Microsoft.MachineLearningServices/workspaces/main-dev/environments/AzureML-VowpalWabbit-8.8.0', 'base_path': './', 'creation_context': <azure.ml._restclient.v2022_02_01_preview.models._models_py3.SystemData object at 0x12727d490>, 'serialize': <msrest.serialization.Serializer object at 0x1272764c0>, 'version': None, 'latest_version': '32', 'conda_file': None, 'image': None, 'build': None, 'inference_config': None, 'os_type': None, 'arm_type': 'environment_version', 'conda_file_path': None, 'path': None, 'upload_hash': None, 'translated_conda_file': None, 'docker': None})\n",
      "\n",
      "\n",
      "AzureML-Designer-Score\n",
      "Environment({'is_anonymous': False, 'auto_increment_version': True, 'name': 'AzureML-Designer-Score', 'description': None, 'tags': {}, 'properties': {}, 'id': '/subscriptions/6560575d-fa06-4e7d-95fb-f962e74efd7a/resourceGroups/cody-dev/providers/Microsoft.MachineLearningServices/workspaces/main-dev/environments/AzureML-Designer-Score', 'base_path': './', 'creation_context': <azure.ml._restclient.v2022_02_01_preview.models._models_py3.SystemData object at 0x12727d580>, 'serialize': <msrest.serialization.Serializer object at 0x127276550>, 'version': None, 'latest_version': '12', 'conda_file': None, 'image': None, 'build': None, 'inference_config': None, 'os_type': None, 'arm_type': 'environment_version', 'conda_file_path': None, 'path': None, 'upload_hash': None, 'translated_conda_file': None, 'docker': None})\n",
      "\n",
      "\n"
     ]
    }
   ],
   "source": [
    "for environment in wsc.environments.list():\n",
    "    print(environment.name)\n",
    "    print(environment)\n",
    "    print(\"\\n\")"
   ]
  },
  {
   "cell_type": "code",
   "execution_count": null,
   "metadata": {},
   "outputs": [],
   "source": []
  }
 ],
 "metadata": {
  "kernelspec": {
   "display_name": "main",
   "language": "python",
   "name": "main"
  },
  "language_info": {
   "codemirror_mode": {
    "name": "ipython",
    "version": 3
   },
   "file_extension": ".py",
   "mimetype": "text/x-python",
   "name": "python",
   "nbconvert_exporter": "python",
   "pygments_lexer": "ipython3",
   "version": "3.9.12"
  },
  "orig_nbformat": 4
 },
 "nbformat": 4,
 "nbformat_minor": 2
}
